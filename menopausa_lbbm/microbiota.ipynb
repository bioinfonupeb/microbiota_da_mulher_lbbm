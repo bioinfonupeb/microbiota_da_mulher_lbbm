{
 "cells": [
  {
   "cell_type": "code",
   "execution_count": 2,
   "id": "6b12376e",
   "metadata": {},
   "outputs": [],
   "source": [
    "from qiime2.plugins import feature_table\n",
    "from qiime2 import Artifact\n",
    "import biom"
   ]
  }
 ],
 "metadata": {
  "kernelspec": {
   "display_name": "Python 3",
   "language": "python",
   "name": "python3"
  },
  "language_info": {
   "codemirror_mode": {
    "name": "ipython",
    "version": 3
   },
   "file_extension": ".py",
   "mimetype": "text/x-python",
   "name": "python",
   "nbconvert_exporter": "python",
   "pygments_lexer": "ipython3",
   "version": "3.8.8"
  }
 },
 "nbformat": 4,
 "nbformat_minor": 5
}
